{
 "cells": [
  {
   "cell_type": "code",
   "execution_count": 10,
   "metadata": {},
   "outputs": [
    {
     "output_type": "stream",
     "name": "stdout",
     "text": "Using Tensorflow version 2.1.0, GPU Supported: True\n"
    }
   ],
   "source": [
    "import tensorflow as tf\n",
    "import numpy as np\n",
    "import gensim.downloader as api\n",
    "from gensim.models import Word2Vec, KeyedVectors\n",
    "print(f'Using Tensorflow version {tf.__version__}, GPU Supported: {tf.test.is_built_with_gpu_support()}')"
   ]
  },
  {
   "cell_type": "code",
   "execution_count": 9,
   "metadata": {},
   "outputs": [],
   "source": [
    "dataset = api.load(\"text8\")\n",
    "model = Word2Vec(dataset)\n",
    "model.save(\".data/text8-word2vec.bin\")"
   ]
  },
  {
   "cell_type": "code",
   "execution_count": 11,
   "metadata": {},
   "outputs": [],
   "source": [
    "model = KeyedVectors.load(\".data/text8-word2vec.bin\")\n",
    "word_vectors = model.wv\n"
   ]
  },
  {
   "cell_type": "code",
   "execution_count": 12,
   "metadata": {},
   "outputs": [
    {
     "output_type": "stream",
     "name": "stdout",
     "text": "['anarchism', 'originated', 'as', 'a', 'term', 'of', 'abuse', 'first', 'used', 'against']\n"
    }
   ],
   "source": [
    "words = word_vectors.vocab.keys()\n",
    "print([x for i, x in enumerate(words) if i < 10])\n",
    "assert(\"king\" in words)"
   ]
  },
  {
   "cell_type": "code",
   "execution_count": 13,
   "metadata": {},
   "outputs": [
    {
     "output_type": "stream",
     "name": "stdout",
     "text": "0.761 prince\n0.738 queen\n0.723 throne\n0.714 emperor\n0.690 kings\n...\n"
    }
   ],
   "source": [
    "def print_most_similar(word_conf_pairs, k):\n",
    "   for i, (word, conf) in enumerate(word_conf_pairs):\n",
    "       print(\"{:.3f} {:s}\".format(conf, word))\n",
    "       if i >= k-1:\n",
    "           break\n",
    "   if k < len(word_conf_pairs):\n",
    "       print(\"...\")\n",
    "\n",
    "print_most_similar(word_vectors.most_similar(\"king\"), 5)"
   ]
  },
  {
   "cell_type": "code",
   "execution_count": 14,
   "metadata": {},
   "outputs": [
    {
     "output_type": "stream",
     "name": "stdout",
     "text": "0.803 germany\n...\n"
    }
   ],
   "source": [
    "print_most_similar(word_vectors.most_similar(\n",
    "   positive=[\"france\", \"berlin\"], negative=[\"paris\"]), 1\n",
    ")\n"
   ]
  },
  {
   "cell_type": "code",
   "execution_count": 15,
   "metadata": {},
   "outputs": [
    {
     "output_type": "stream",
     "name": "stdout",
     "text": "singapore\n"
    }
   ],
   "source": [
    "print(word_vectors.doesnt_match([\"hindus\", \"parsis\", \"singapore\", \"christians\"]))\n"
   ]
  },
  {
   "cell_type": "code",
   "execution_count": 16,
   "metadata": {},
   "outputs": [
    {
     "output_type": "stream",
     "name": "stdout",
     "text": "similarity(man, woman) = 0.742\nsimilarity(man, dog) = 0.445\nsimilarity(man, whale) = 0.256\nsimilarity(man, tree) = 0.244\n"
    }
   ],
   "source": [
    "for word in [\"woman\", \"dog\", \"whale\", \"tree\"]:\n",
    "   print(\"similarity({:s}, {:s}) = {:.3f}\".format(\n",
    "       \"man\", word,\n",
    "       word_vectors.similarity(\"man\", word)\n",
    "   ))\n"
   ]
  },
  {
   "cell_type": "code",
   "execution_count": 17,
   "metadata": {},
   "outputs": [],
   "source": [
    "vec_song = word_vectors[\"song\"]\n",
    "vec_song_2 = word_vectors.word_vec(\"song\", use_norm=True)\n"
   ]
  },
  {
   "cell_type": "code",
   "execution_count": null,
   "metadata": {},
   "outputs": [],
   "source": []
  }
 ],
 "metadata": {
  "language_info": {
   "codemirror_mode": {
    "name": "ipython",
    "version": 3
   },
   "file_extension": ".py",
   "mimetype": "text/x-python",
   "name": "python",
   "nbconvert_exporter": "python",
   "pygments_lexer": "ipython3",
   "version": "3.6.9-final"
  },
  "orig_nbformat": 2,
  "kernelspec": {
   "name": "python36964bitvenvvirtualenved65712175164bb8ae5452abd92f3ec5",
   "display_name": "Python 3.6.9 64-bit ('.venv': virtualenv)"
  }
 },
 "nbformat": 4,
 "nbformat_minor": 2
}